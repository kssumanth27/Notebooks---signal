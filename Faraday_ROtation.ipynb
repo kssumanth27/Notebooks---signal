{
 "cells": [
  {
   "cell_type": "markdown",
   "id": "394e27e5",
   "metadata": {},
   "source": [
    "## Testing the code for faraday rotation."
   ]
  },
  {
   "cell_type": "markdown",
   "id": "aacc9e6a",
   "metadata": {},
   "source": [
    "#### I will start with the basic picture first and then will make necessary changes to include singal with multiple frequencies after some clarifications."
   ]
  },
  {
   "cell_type": "code",
   "execution_count": 1,
   "id": "a48e29d7",
   "metadata": {},
   "outputs": [],
   "source": [
    "import numpy as np\n",
    "import matplotlib.pyplot as plt"
   ]
  },
  {
   "cell_type": "markdown",
   "id": "3fb7a476",
   "metadata": {},
   "source": [
    "#### I started out with linear polarization. I tried doing with circular and elliptical polarization, but that was resulting in unexpected results. So, I am not sure if the procdure is same for all the processes."
   ]
  },
  {
   "cell_type": "code",
   "execution_count": 2,
   "id": "3891e992",
   "metadata": {
    "scrolled": true
   },
   "outputs": [
    {
     "name": "stdout",
     "output_type": "stream",
     "text": [
      "10.0\n",
      "1.0\n",
      "1.0\n",
      "pol angle is 45.0\n"
     ]
    },
    {
     "data": {
      "image/png": "[encoded data removed]",
      "text/plain": [
       "<Figure size 432x288 with 1 Axes>"
      ]
     },
     "metadata": {
      "needs_background": "light"
     },
     "output_type": "display_data"
    }
   ],
   "source": [
    "time = np.linspace(0.0,0.01,10**7,endpoint=False)\n",
    "freq = 5e7\n",
    "E0 = 10\n",
    "Ex = E0*np.cos(2.0*np.pi*freq*time) \n",
    "Ey = E0*np.cos(2.0*np.pi*freq*time)\n",
    "npts = len(time)\n",
    "#AvgE = np.average(Ex)\n",
    "pol = Ey/Ex  #Gives the tan(polarization angle)\n",
    "plt.plot(Ex[0:1000],Ey[0:1000])\n",
    "plt.xlabel(\"Ex\")\n",
    "plt.ylabel(\"Ey\")\n",
    "print(max(Ex))\n",
    "print(Ey[1]/Ex[1])  # Just checking the numbers\n",
    "print(Ey[4000]/Ex[4000])   # Just checking the numbers\n",
    "print(\"pol angle is\",np.arctan(Ey[5500]/Ex[5500])*180/np.pi)"
   ]
  },
  {
   "cell_type": "markdown",
   "id": "02d3e543",
   "metadata": {},
   "source": [
    "#### Now I will fourier transform both the signals, which will result in both real and imaginary components for both the Ex and Ey, which are written into their respective varibles. Ef_xre ( real part of fourier transformed Ex) and so on."
   ]
  },
  {
   "cell_type": "code",
   "execution_count": 3,
   "id": "d68bcce1",
   "metadata": {},
   "outputs": [
    {
     "data": {
      "text/plain": [
       "(5000001,)"
      ]
     },
     "execution_count": 3,
     "metadata": {},
     "output_type": "execute_result"
    }
   ],
   "source": [
    "norm = 2.0/npts\n",
    "Ef_x = norm*np.fft.rfft(Ex)\n",
    "Ef_y = norm*np.fft.rfft(Ey)\n",
    "\n",
    "Ef_xre = Ef_x.real.copy()\n",
    "Ef_xim = Ef_x.imag.copy()\n",
    "Ef_yre = Ef_y.real.copy()\n",
    "Ef_yim = Ef_y.imag.copy()\n",
    "np.shape(Ef_x)"
   ]
  },
  {
   "cell_type": "markdown",
   "id": "7f6bd765",
   "metadata": {},
   "source": [
    "#### Making the Covariant matrix of 4 elements, Real.Ex Im.Ex Re.Ey and Im.Ey in fourier space, which will result in a 4x4 covariance matrix."
   ]
  },
  {
   "cell_type": "code",
   "execution_count": 4,
   "id": "7084250a",
   "metadata": {},
   "outputs": [],
   "source": [
    "data = np.array([Ef_xre,Ef_yre,Ef_xim,Ef_yim])\n",
    "covmatrix = np.cov(data,bias=True)"
   ]
  },
  {
   "cell_type": "code",
   "execution_count": 5,
   "id": "c83c4179",
   "metadata": {},
   "outputs": [
    {
     "name": "stdout",
     "output_type": "stream",
     "text": [
      "[[ 1.99999920e-05  1.99999920e-05 -1.95165802e-15 -1.95165802e-15]\n",
      " [ 1.99999920e-05  1.99999920e-05 -1.95165802e-15 -1.95165802e-15]\n",
      " [-1.95165802e-15 -1.95165802e-15  3.62946606e-25  3.62946606e-25]\n",
      " [-1.95165802e-15 -1.95165802e-15  3.62946606e-25  3.62946606e-25]]\n"
     ]
    }
   ],
   "source": [
    "print(covmatrix)"
   ]
  },
  {
   "cell_type": "code",
   "execution_count": 6,
   "id": "37962261",
   "metadata": {},
   "outputs": [],
   "source": [
    "I= 0.5*(covmatrix[0,0]+covmatrix[1,1]+covmatrix[2,2]+covmatrix[3,3])\n",
    "Q = 0.5*(covmatrix[0,0]-covmatrix[1,1]+covmatrix[2,2]-covmatrix[3,3])\n",
    "U = covmatrix[0,1]+covmatrix[3,2]\n",
    "V = covmatrix[1,2]-covmatrix[0,3]"
   ]
  },
  {
   "cell_type": "code",
   "execution_count": 7,
   "id": "c15104b7",
   "metadata": {},
   "outputs": [
    {
     "name": "stdout",
     "output_type": "stream",
     "text": [
      "3.9999967999967666e-10\n",
      "3.9999967999967666e-10\n"
     ]
    }
   ],
   "source": [
    "print(Q**2+U**2+V**2)\n",
    "print(I**2)"
   ]
  },
  {
   "cell_type": "markdown",
   "id": "61856fdd",
   "metadata": {},
   "source": [
    "#### The above number doesn't look good since they aren't normalized by Normalizing I to be 1, but the relation between stokes parameters still holds.\n"
   ]
  },
  {
   "cell_type": "code",
   "execution_count": 8,
   "id": "0c8c231e",
   "metadata": {
    "scrolled": true
   },
   "outputs": [
    {
     "name": "stdout",
     "output_type": "stream",
     "text": [
      "5000001\n",
      "9.999999999999993\n"
     ]
    },
    {
     "data": {
      "image/png": "[encoded data removed]",
      "text/plain": [
       "<Figure size 432x288 with 1 Axes>"
      ]
     },
     "metadata": {
      "needs_background": "light"
     },
     "output_type": "display_data"
    }
   ],
   "source": [
    "k = np.fft.rfftfreq(len(time))\n",
    "kfreq = k*npts/(max(time)+time[1])  #Frequncies on the axis.\n",
    "plt.semilogx(kfreq,Ef_x.real)\n",
    "plt.xlabel(\"frequencies\")\n",
    "plt.ylabel(\"Real(Ex) in fourier space\")\n",
    "print(len(kfreq))\n",
    "print(max(abs(Ef_x.real)))"
   ]
  },
  {
   "cell_type": "code",
   "execution_count": 9,
   "id": "262a758e",
   "metadata": {},
   "outputs": [
    {
     "data": {
      "text/plain": [
       "100.0"
      ]
     },
     "execution_count": 9,
     "metadata": {},
     "output_type": "execute_result"
    }
   ],
   "source": [
    "kfreq[2]-kfreq[1]   #Grid size in fourier space"
   ]
  },
  {
   "cell_type": "code",
   "execution_count": 10,
   "id": "dc89bd4d",
   "metadata": {},
   "outputs": [],
   "source": [
    "# Define change in angle here\n",
    "c = 3e8\n",
    "\n",
    "def faraday_rotation_angle(w):\n",
    "    far_angle = 0.1*c**2/w**2\n",
    "    return far_angle"
   ]
  },
  {
   "cell_type": "code",
   "execution_count": 11,
   "id": "4ba7cdef",
   "metadata": {},
   "outputs": [],
   "source": [
    "for i in range(len(kfreq)):\n",
    "    if abs(kfreq[i]-freq)<=10:\n",
    "        far_rot = faraday_rotation_angle(kfreq[i])\n",
    "        \n",
    "### I used this method for selecting the frequncy to rotate the polarization angle since I was testing with just a single\n",
    "### frequency. I will modify this to include various frequencies.\n",
    "    "
   ]
  },
  {
   "cell_type": "markdown",
   "id": "24067ce4",
   "metadata": {},
   "source": [
    "#### The main problem with including a combination of frequencies in the signal is understanding what condition to use to get the desired result. This I will think about or ask you on slack."
   ]
  },
  {
   "cell_type": "markdown",
   "id": "a4aee50c",
   "metadata": {},
   "source": [
    "#### The below fields are the new fields in fourier space after they are rotated by the faraday rotation angle (far_rot)."
   ]
  },
  {
   "cell_type": "code",
   "execution_count": 12,
   "id": "011fdbee",
   "metadata": {},
   "outputs": [],
   "source": [
    "Ef_xnew = (Ef_x*np.cos(far_rot)-Ef_y*np.sin(far_rot)).copy()\n",
    "Ef_ynew = (Ef_x*np.sin(far_rot)+Ef_y*np.cos(far_rot)).copy()"
   ]
  },
  {
   "cell_type": "code",
   "execution_count": 13,
   "id": "d2942ac5",
   "metadata": {},
   "outputs": [],
   "source": [
    "Ef_xre_new = Ef_xnew.real.copy()\n",
    "Ef_xim_new = Ef_xnew.imag.copy()\n",
    "Ef_yre_new = Ef_ynew.real.copy()\n",
    "Ef_yim_new = Ef_ynew.imag.copy()"
   ]
  },
  {
   "cell_type": "code",
   "execution_count": 14,
   "id": "b9dcb6df",
   "metadata": {},
   "outputs": [
    {
     "name": "stdout",
     "output_type": "stream",
     "text": [
      "4.542379730392937\n"
     ]
    },
    {
     "data": {
      "text/plain": [
       "Text(0, 0.5, 'Real(New Ex)')"
      ]
     },
     "execution_count": 14,
     "metadata": {},
     "output_type": "execute_result"
    },
    {
     "data": {
      "image/png": "[encoded data removed]",
      "text/plain": [
       "<Figure size 432x288 with 1 Axes>"
      ]
     },
     "metadata": {
      "needs_background": "light"
     },
     "output_type": "display_data"
    }
   ],
   "source": [
    "plt.semilogx(kfreq,Ef_xnew.real)\n",
    "print(max(abs(Ef_xnew.real)))\n",
    "plt.xlabel(\"frequecy\")\n",
    "plt.ylabel(\"Real(New Ex)\")"
   ]
  },
  {
   "cell_type": "code",
   "execution_count": 15,
   "id": "00020634",
   "metadata": {},
   "outputs": [
    {
     "name": "stdout",
     "output_type": "stream",
     "text": [
      "max of new Ex is 4.542379730392941\n",
      "max of New Ey is 13.392788596290005\n",
      "pol angle is 71.26480624709637\n",
      "pol angle is 1.2438055098076555\n",
      " difference between polarization angles 26.26480624709638\n"
     ]
    },
    {
     "data": {
      "image/png": "[encoded data removed]",
      "text/plain": [
       "<Figure size 432x288 with 1 Axes>"
      ]
     },
     "metadata": {
      "needs_background": "light"
     },
     "output_type": "display_data"
    }
   ],
   "source": [
    "Ex_new = np.fft.irfft(Ef_xnew/norm)\n",
    "Ey_new = np.fft.irfft(Ef_ynew/norm)\n",
    "plt.plot(Ex_new[0:1000],Ey_new[0:1000])\n",
    "print(\"max of new Ex is\",max(Ex_new))\n",
    "print(\"max of New Ey is\",max(Ey_new))\n",
    "print(\"pol angle is\",np.arctan(Ey_new[5500]/Ex_new[5500])*180/np.pi)\n",
    "print(\"pol angle is\",np.arctan(Ey_new[5500]/Ex_new[5500]))\n",
    "\n",
    "print(\" difference between polarization angles\",(np.arctan(Ey_new[5500]/Ex_new[5500])-np.arctan(Ey[5500]/Ex[5500]))*180/np.pi)"
   ]
  },
  {
   "cell_type": "code",
   "execution_count": 28,
   "id": "730bff56",
   "metadata": {},
   "outputs": [
    {
     "name": "stdout",
     "output_type": "stream",
     "text": [
      "26.264806247096402\n"
     ]
    }
   ],
   "source": [
    "print(far_rot*180/np.pi-180)"
   ]
  },
  {
   "cell_type": "markdown",
   "id": "789b46d7",
   "metadata": {},
   "source": [
    "#### The below covariance matrix is the second covariance matrix calculated after the rotation. And its components are from the fourier space."
   ]
  },
  {
   "cell_type": "code",
   "execution_count": 18,
   "id": "9620755c",
   "metadata": {},
   "outputs": [],
   "source": [
    "data2 = np.array([Ef_xre_new,Ef_yre_new,Ef_xim_new,Ef_yim_new])\n",
    "covmatrix2 = np.cov(data2,bias=True)"
   ]
  },
  {
   "cell_type": "code",
   "execution_count": 19,
   "id": "1d914bf1",
   "metadata": {},
   "outputs": [
    {
     "name": "stdout",
     "output_type": "stream",
     "text": [
      "[[ 4.12664107e-06  1.21670214e-05 -4.02689768e-16 -1.18729372e-15]\n",
      " [ 1.21670214e-05  3.58733429e-05 -1.18729372e-15 -3.50062627e-15]\n",
      " [-4.02689768e-16 -1.18729372e-15  7.48875486e-26  2.20799045e-25]\n",
      " [-1.18729372e-15 -3.50062627e-15  2.20799045e-25  6.51005664e-25]]\n"
     ]
    }
   ],
   "source": [
    "print(covmatrix2)"
   ]
  },
  {
   "cell_type": "code",
   "execution_count": 20,
   "id": "925b9848",
   "metadata": {},
   "outputs": [],
   "source": [
    "I1= 0.5*(covmatrix2[0,0]+covmatrix2[1,1]+covmatrix2[2,2]+covmatrix2[3,3])\n",
    "Q1 = 0.5*(covmatrix2[0,0]-covmatrix2[1,1]+covmatrix2[2,2]-covmatrix2[3,3])\n",
    "U1 = covmatrix2[0,1]+covmatrix2[3,2]\n",
    "V1 = covmatrix2[1,2]-covmatrix2[0,3]"
   ]
  },
  {
   "cell_type": "code",
   "execution_count": 29,
   "id": "27501b9b",
   "metadata": {},
   "outputs": [
    {
     "name": "stdout",
     "output_type": "stream",
     "text": [
      "3.9999968000064457e-10\n",
      "3.999996800008301e-10\n"
     ]
    }
   ],
   "source": [
    "print(Q1**2+U1**2+V1**2)\n",
    "print(I1**2)"
   ]
  },
  {
   "cell_type": "markdown",
   "id": "a3c339cb",
   "metadata": {},
   "source": [
    "#### The Q2 and U2 below are calculated using the rotation formula for stokes parameters taking their rotation by 2 times the rotation angle, and its clearly seen that, it matches to the ones calculated above. Hence showing that, if polarization is rotated by $\\theta$, the 2nd and 3rd stokes parameters are rotated by $2\\theta$."
   ]
  },
  {
   "cell_type": "code",
   "execution_count": 30,
   "id": "7175b896",
   "metadata": {},
   "outputs": [
    {
     "name": "stdout",
     "output_type": "stream",
     "text": [
      "Stokes parameter Q using rotation formula -1.587335092763248e-05\n",
      "Stokes parameter U using rotation formula 1.2167021423828671e-05\n",
      "Stokes paramter Q using covariance matrix after rotation -1.5873350927656802e-05\n",
      "Stokes parameter U using covariance matrix after rotation 1.2167021423836713e-05\n",
      "Stokes parameter Q using covariance matrix before rotation 0.0\n",
      "Stokes parameter U using covariance matrix before rotation 1.9999991999990316e-05\n"
     ]
    }
   ],
   "source": [
    "Q2 = Q*np.cos(2*(far_rot))-U*np.sin(2*(far_rot))\n",
    "U2 = Q*np.sin(2*(far_rot))+U*np.cos(2*(far_rot))\n",
    "print(\"Stokes parameter Q using rotation formula\",Q2)\n",
    "print(\"Stokes parameter U using rotation formula\",U2)\n",
    "\n",
    "print(\"Stokes paramter Q using covariance matrix after rotation\",Q1)\n",
    "print(\"Stokes parameter U using covariance matrix after rotation\",U1)\n",
    "\n",
    "print(\"Stokes parameter Q using covariance matrix before rotation\",Q)\n",
    "print(\"Stokes parameter U using covariance matrix before rotation\",U)"
   ]
  },
  {
   "cell_type": "code",
   "execution_count": 23,
   "id": "8f12a3d2",
   "metadata": {},
   "outputs": [
    {
     "data": {
      "text/plain": [
       "-0.9168146928204146"
      ]
     },
     "execution_count": 23,
     "metadata": {},
     "output_type": "execute_result"
    }
   ],
   "source": [
    "np.arctan(Q2/U2)"
   ]
  },
  {
   "cell_type": "code",
   "execution_count": 24,
   "id": "4e02e732",
   "metadata": {},
   "outputs": [
    {
     "data": {
      "text/plain": [
       "-0.9168146928208353"
      ]
     },
     "execution_count": 24,
     "metadata": {},
     "output_type": "execute_result"
    }
   ],
   "source": [
    "np.arctan(Q1/U1)"
   ]
  },
  {
   "cell_type": "code",
   "execution_count": 25,
   "id": "6d811e2f",
   "metadata": {},
   "outputs": [
    {
     "data": {
      "text/plain": [
       "0.0"
      ]
     },
     "execution_count": 25,
     "metadata": {},
     "output_type": "execute_result"
    }
   ],
   "source": [
    "np.arctan(Q/U)"
   ]
  },
  {
   "cell_type": "code",
   "execution_count": 26,
   "id": "0188df05",
   "metadata": {},
   "outputs": [
    {
     "name": "stdout",
     "output_type": "stream",
     "text": [
      "3.6000000000000005\n"
     ]
    }
   ],
   "source": [
    "print(far_rot)"
   ]
  },
  {
   "cell_type": "code",
   "execution_count": null,
   "id": "b71bccba",
   "metadata": {},
   "outputs": [],
   "source": []
  }
 ],
 "metadata": {
  "kernelspec": {
   "display_name": "Python 3 (ipykernel)",
   "language": "python",
   "name": "python3"
  },
  "language_info": {
   "codemirror_mode": {
    "name": "ipython",
    "version": 3
   },
   "file_extension": ".py",
   "mimetype": "text/x-python",
   "name": "python",
   "nbconvert_exporter": "python",
   "pygments_lexer": "ipython3",
   "version": "3.9.7"
  }
 },
 "nbformat": 4,
 "nbformat_minor": 5
}
